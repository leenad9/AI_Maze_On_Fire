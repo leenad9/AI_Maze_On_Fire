{
 "cells": [
  {
   "cell_type": "code",
   "execution_count": 1,
   "metadata": {},
   "outputs": [],
   "source": [
    "import numpy as np\n",
    "import math"
   ]
  },
  {
   "cell_type": "code",
   "execution_count": 5,
   "metadata": {},
   "outputs": [],
   "source": [
    "  \n",
    "\"\"\"\"\n",
    " Aim : Decide new dimension of the superblocks\n",
    " To Do: \n",
    "     1)Check whether original dim is divided by 10 or not\n",
    "     2)Check whether original dim is a perfect square or not\n",
    "     3)If user enters a value of dimension that can't be divided into cubes (prime numbers), take another input value\n",
    "     4)Repeat untill you get the perfectly divisible dim value\n",
    "     5)return new dimension of the superblock maze\n",
    "     \n",
    " Result: The original maze is perfectly converted into cubical superblocks!\n",
    "                                    \n",
    "\"\"\"\n",
    "def divide_dim(dim):\n",
    "    root = math.sqrt(dim)         \n",
    "    t = dim%10 == 0 or int(root+0.5)**2 == dim   \n",
    "    \n",
    "    #When the dim is not perfectly factorised for relaxation\n",
    "    while t==0:      \n",
    "        print('Enter new dimention value for verifying a relaxed maze :')\n",
    "        dim = int(input('Enter the dimension:'))\n",
    "        root = math.sqrt(dim)\n",
    "        t = dim%10 == 0 or int(root+0.5)**2 == dim\n",
    "        if t ==0:\n",
    "            continue\n",
    "        else:\n",
    "            break\n",
    "            \n",
    "    #Dim is divided into smaller dim for relaxation\n",
    "    if t==1:        \n",
    "        if dim%10 == 0:          #checking whether the no is divisible by 10\n",
    "            dim_new = dim/10    \n",
    "        elif int(root+0.5)**2 == dim:   #checking whether a dim is a perfect square\n",
    "            dim_new = int(root+0.5) \n",
    "    \n",
    "    print('The Dimensions of Original maze :',int(dim))\n",
    "    print('Lets check the relaxation heuristic with new dimension :',int(dim_new))\n",
    "    return int(dim_new)\n",
    "    "
   ]
  },
  {
   "cell_type": "code",
   "execution_count": null,
   "metadata": {},
   "outputs": [],
   "source": []
  },
  {
   "cell_type": "code",
   "execution_count": null,
   "metadata": {},
   "outputs": [],
   "source": []
  },
  {
   "cell_type": "code",
   "execution_count": null,
   "metadata": {},
   "outputs": [],
   "source": []
  },
  {
   "cell_type": "code",
   "execution_count": null,
   "metadata": {},
   "outputs": [],
   "source": []
  },
  {
   "cell_type": "code",
   "execution_count": null,
   "metadata": {},
   "outputs": [],
   "source": []
  }
 ],
 "metadata": {
  "kernelspec": {
   "display_name": "Python 3",
   "language": "python",
   "name": "python3"
  },
  "language_info": {
   "codemirror_mode": {
    "name": "ipython",
    "version": 3
   },
   "file_extension": ".py",
   "mimetype": "text/x-python",
   "name": "python",
   "nbconvert_exporter": "python",
   "pygments_lexer": "ipython3",
   "version": "3.7.6"
  }
 },
 "nbformat": 4,
 "nbformat_minor": 4
}
