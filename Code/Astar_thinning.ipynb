{
 "cells": [
  {
   "cell_type": "code",
   "execution_count": 1,
   "metadata": {},
   "outputs": [
    {
     "name": "stdout",
     "output_type": "stream",
     "text": [
      "Requirement already satisfied: import_ipynb in c:\\programdata\\anaconda3\\lib\\site-packages (0.1.3)\n",
      "Note: you may need to restart the kernel to use updated packages.\n"
     ]
    }
   ],
   "source": [
    "pip install import_ipynb"
   ]
  },
  {
   "cell_type": "code",
   "execution_count": 2,
   "metadata": {},
   "outputs": [],
   "source": [
    "import import_ipynb"
   ]
  },
  {
   "cell_type": "code",
   "execution_count": 4,
   "metadata": {},
   "outputs": [
    {
     "name": "stdout",
     "output_type": "stream",
     "text": [
      "Enter dimension of the maze (dim): 2000\n",
      "Enter obstacle probability (p): 0.3\n",
      "Enter obstacle removal probability (rho): 0.5\n",
      "Enter heuristic (Manhattan (m) / Euclidean (e)): m\n"
     ]
    },
    {
     "data": {
      "image/png": "[encoded data removed]",
      "text/plain": [
       "<Figure size 720x720 with 1 Axes>"
      ]
     },
     "metadata": {},
     "output_type": "display_data"
    },
    {
     "data": {
      "image/png": "[encoded data removed]",
      "text/plain": [
       "<Figure size 720x720 with 1 Axes>"
      ]
     },
     "metadata": {},
     "output_type": "display_data"
    },
    {
     "data": {
      "image/png": "[encoded data removed]",
      "text/plain": [
       "<Figure size 720x720 with 1 Axes>"
      ]
     },
     "metadata": {},
     "output_type": "display_data"
    },
    {
     "name": "stdout",
     "output_type": "stream",
     "text": [
      "This maze is unsolvable!\n"
     ]
    }
   ],
   "source": [
    "import numpy as np\n",
    "import random\n",
    "from queue import PriorityQueue\n",
    "import matplotlib.pylab as plt\n",
    "import display\n",
    "\n",
    "class Maze(object):\n",
    "    def __init__(self, x = None, y = None, open = None):\n",
    "        self.closed_set = set()         \n",
    "        self.fringe = PriorityQueue()   # Use a priority queue for the fringe\n",
    "        self.max_fringe_size = 0            \n",
    "        self.nodes = []                 # List to store all the maze nodes\n",
    "        self.dim = 0                    # Dimension of the maze\n",
    "        self.x = x                      # x co-ordinate of node\n",
    "        self.y = y                      # y co-ordinate of node\n",
    "        self.parent = None\n",
    "        self.h = 0                      # Heuristic value\n",
    "        self.f = 0                      # F-value\n",
    "        self.cost = {}                  # Dict to store path costs\n",
    "        self.shortest_path_length = 0\n",
    "        self.nodes_expanded = 0\n",
    "        self.open = open                # Bool: True if node is open, False if node is blocked\n",
    "        self.finish = False             # Bool: True when goal is found\n",
    "\n",
    "    def create_maze(self, dim, p):\n",
    "        \"\"\"\n",
    "        Create the maze: \n",
    "        Blocked nodes are represented by 0 (with probability 'p'), \n",
    "        Open nodes by 1 (with probability '1-p'), and\n",
    "        Traversed nodes by 2\n",
    "        :param dim: dimension of the maze to be created\n",
    "        :param p: probability of obstacles/obstacle density\n",
    "        \"\"\"\n",
    "        self.dim = dim\n",
    "        maze = np.random.choice([0, 1], (dim,dim), p=[p, 1-p]) # [Blocked/0, Open/1]\n",
    "        maze[0][0] = 2          # Denote start by 2\n",
    "        maze[dim-1][dim-1] = 2  # Denote goal by 2\n",
    "        return maze\n",
    "        \n",
    "    def get_node(self, x, y):\n",
    "        return self.nodes[x * self.dim + y]\n",
    "\n",
    "    # Find immediate neighbors of any given node\n",
    "    def find_neighbors(self, node):\n",
    "        nodes = []\n",
    "        # Right\n",
    "        if node.x < self.dim-1:\n",
    "            nodes.append(self.get_node(node.x + 1, node.y))\n",
    "        # Left\n",
    "        if node.x > 0:\n",
    "            nodes.append(self.get_node(node.x - 1, node.y))\n",
    "        # Up\n",
    "        if node.y < self.dim-1:\n",
    "            nodes.append(self.get_node(node.x, node.y + 1))\n",
    "        # Down\n",
    "        if node.y > 0:\n",
    "            nodes.append(self.get_node(node.x, node.y - 1))\n",
    "        return nodes\n",
    "\n",
    "    def init_maze(self, dim, p):        \n",
    "        \"\"\"\n",
    "        Initialize the maze with given dim and p\n",
    "        :param dim: dimension of the maze to be created\n",
    "        :param p: probability of obstacles/obstacle density\n",
    "        \"\"\"\n",
    "        self.maze = self.create_maze(dim, p)\n",
    "        for x in range(self.dim):\n",
    "            for y in range(self.dim):\n",
    "                # node is blocked\n",
    "                if self.maze[x][y] == 0:\n",
    "                    open = False\n",
    "                # node is open\n",
    "                else:\n",
    "                    open = True\n",
    "                self.nodes.append(Maze(x, y, open)) # Append all nodes to 'nodes' list\n",
    "        self.start = self.get_node(0, 0)\n",
    "        self.goal = self.get_node(self.dim - 1, self.dim - 1)\n",
    "        \n",
    "    def get_euclidean_dist(self, node):\n",
    "        return np.sqrt((node.x - self.goal.x)**2 + (node.y - self.goal.y)**2)\n",
    "\n",
    "    def get_manhattan_dist(self, node):\n",
    "        return np.abs(node.x - self.goal.x) + np.abs(node.y - self.goal.y)\n",
    "\n",
    "    def calc_heuristic(self, node, heuristic):\n",
    "        if heuristic == \"m\":\n",
    "            return self.get_manhattan_dist(node)\n",
    "        return self.get_euclidean_dist(node)\n",
    "          \n",
    "    # Function to display the shortest traversed path by agent from start to goal\n",
    "    def display_path(self):\n",
    "        node = self.goal # Set goal node\n",
    "        self.shortest_path_length = 0\n",
    "        print('\\nPath traversed:\\n')\n",
    "        print('=== GOAL ===')\n",
    "        \n",
    "        # Find length of shortest path\n",
    "        # Keep on expanding nodes until shortest path to goal is found \n",
    "        while node.parent is not self.start:\n",
    "            node = node.parent  \n",
    "            self.shortest_path_length += 1\n",
    "            self.maze[node.x][node.y] = 2\n",
    "            print('(', node.x, ',', node.y, ')')            \n",
    "            \n",
    "        # Display the maze with highlighted path\n",
    "        display.print_maze(self.maze)\n",
    "        self.shortest_path_length += 2\n",
    "        print('=== START ===\\n')\n",
    "        print('\\nShortest path length: ',self.shortest_path_length)\n",
    "        print('Nodes expanded: ',self.nodes_expanded)\n",
    "        print('Maximum fringe size: ',self.max_fringe_size)\n",
    "                   \n",
    "    # Thinning Astar\n",
    "    def run_thinning_astar(self, dim, p, heuristic, rho):  \n",
    "        self.init_maze(dim, p)\n",
    "        self.fringe.put((self.start.f, 0, self.start)) # Initiate fringe with f-val, nodes expanded, start node\n",
    "        self.cost[self.start] = 0\n",
    "\n",
    "        # Display maze before thinning\n",
    "        display.print_maze(self.maze)\n",
    "        \n",
    "        # Thinning logic\n",
    "        no_of_blocked_nodes = (self.maze==0).sum()     # Number of blocked nodes\n",
    "        nodes_to_remove = round(no_of_blocked_nodes * rho)   # Number of blocked nodes to remove\n",
    "\n",
    "        while nodes_to_remove >= 1:\n",
    "            for x in range(dim):\n",
    "                for y in range(dim):\n",
    "                    if self.maze[x][y] == 0:  \n",
    "                        rand_prob = random.uniform(0,1)\n",
    "                        if rand_prob < rho:\n",
    "                            self.maze[x][y] = 1\n",
    "                            nodes_to_remove -= 1\n",
    "\n",
    "        # Display maze after thinning\n",
    "        display.print_maze(self.maze)\n",
    "        \n",
    "        # While fringe is not empty, add visited nodes to closed set\n",
    "        while not self.fringe.empty():\n",
    "            f_val, x, node = self.fringe.get()\n",
    "            self.closed_set.add(node)       \n",
    "            # Goal found\n",
    "            if node is self.goal:         \n",
    "                self.finish = True\n",
    "                self.nodes_expanded += 1\n",
    "                return self.display_path()\n",
    "        \n",
    "            neighbors = self.find_neighbors(node)\n",
    "            for neighbor in neighbors:\n",
    "                # Neighbor is open and unvisited\n",
    "                if neighbor.open and neighbor not in self.closed_set:\n",
    "                    new_cost = self.cost[node]   \n",
    "                   \n",
    "                    # Update cost if new cost is lower\n",
    "                    if neighbor not in self.cost or self.cost[neighbor] > new_cost:\n",
    "                        self.cost[neighbor] = new_cost        \n",
    "                        neighbor.parent = node         \n",
    "                        f_val = new_cost + self.calc_heuristic(neighbor, heuristic) \n",
    "                        self.fringe.put((f_val, self.nodes_expanded, neighbor)) \n",
    "                        self.max_fringe_size = len(self.fringe.queue)\n",
    "                        self.nodes_expanded += 1\n",
    "             \n",
    "        # If there's no path from start to goal\n",
    "        if(self.finish == False):\n",
    "            display.print_maze(self.maze)\n",
    "            print('This maze is unsolvable!')\n",
    "            \n",
    "obj = Maze()\n",
    "dim = int(input('Enter dimension of the maze (dim): '))\n",
    "p = float(input('Enter obstacle probability (p): '))\n",
    "rho = float(input('Enter obstacle removal probability (rho): '))\n",
    "heuristic = input('Enter heuristic (Manhattan (m) / Euclidean (e)): ')\n",
    "\n",
    "obj.run_thinning_astar(dim, p, heuristic, rho)"
   ]
  },
  {
   "cell_type": "code",
   "execution_count": null,
   "metadata": {},
   "outputs": [],
   "source": []
  }
 ],
 "metadata": {
  "kernelspec": {
   "display_name": "Python 3",
   "language": "python",
   "name": "python3"
  },
  "language_info": {
   "codemirror_mode": {
    "name": "ipython",
    "version": 3
   },
   "file_extension": ".py",
   "mimetype": "text/x-python",
   "name": "python",
   "nbconvert_exporter": "python",
   "pygments_lexer": "ipython3",
   "version": "3.7.6"
  }
 },
 "nbformat": 4,
 "nbformat_minor": 4
}
